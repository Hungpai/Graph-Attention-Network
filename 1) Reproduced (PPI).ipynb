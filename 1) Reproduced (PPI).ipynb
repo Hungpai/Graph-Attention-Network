{
 "cells": [
  {
   "cell_type": "markdown",
   "metadata": {},
   "source": [
    "Source code from:\n",
    "https://github.com/rusty1s/pytorch_geometric/blob/master/examples/gat.py"
   ]
  },
  {
   "cell_type": "code",
   "execution_count": 1,
   "metadata": {},
   "outputs": [],
   "source": [
    "import os.path as osp\n",
    "\n",
    "import torch\n",
    "import torch.nn.functional as F\n",
    "from torch_geometric.datasets import Planetoid\n",
    "import torch_geometric.transforms as T\n",
    "from torch_geometric.nn import GATConv\n",
    "from torch_geometric.datasets import PPI\n",
    "from torch_geometric.data import DataLoader\n",
    "from sklearn.metrics import f1_score\n",
    "\n",
    "import networkx as nx\n",
    "import matplotlib.pyplot as plt\n",
    "from sklearn.manifold import TSNE\n",
    "    \n",
    "def visualize(h, color):\n",
    "    z = TSNE(n_components=2).fit_transform(h.detach().cpu().numpy())\n",
    "\n",
    "    plt.figure(figsize=(10,10))\n",
    "    plt.xticks([])\n",
    "    plt.yticks([])\n",
    "\n",
    "    plt.scatter(z[:, 0], z[:, 1], s=70, c=color, cmap=\"Set2\")\n",
    "    plt.show()"
   ]
  },
  {
   "cell_type": "code",
   "execution_count": 2,
   "metadata": {},
   "outputs": [],
   "source": [
    "dataset = 'PPI'\n",
    "path = osp.join(osp.dirname(osp.realpath('__file__')), 'data', dataset)\n",
    "dataset = PPI(path)\n",
    "data = dataset[0]\n",
    "\n",
    "train_dataset = PPI(path, split='train')\n",
    "val_dataset = PPI(path, split='val')\n",
    "test_dataset = PPI(path, split='test')\n",
    "train_loader = DataLoader(train_dataset, batch_size=1, shuffle=True)\n",
    "val_loader = DataLoader(val_dataset, batch_size=2, shuffle=False)\n",
    "test_loader = DataLoader(test_dataset, batch_size=2, shuffle=False)"
   ]
  },
  {
   "cell_type": "code",
   "execution_count": 3,
   "metadata": {},
   "outputs": [
    {
     "name": "stdout",
     "output_type": "stream",
     "text": [
      "Dataset: PPI(20):\n",
      "======================\n",
      "Number of graphs: 20\n",
      "Number of features: 50\n",
      "Number of classes: 121\n"
     ]
    }
   ],
   "source": [
    "print(f'Dataset: {dataset}:')\n",
    "print('======================')\n",
    "print(f'Number of graphs: {len(dataset)}')\n",
    "print(f'Number of features: {dataset.num_features}')\n",
    "print(f'Number of classes: {dataset.num_classes}')"
   ]
  },
  {
   "cell_type": "code",
   "execution_count": 4,
   "metadata": {},
   "outputs": [],
   "source": [
    "#data = dataset[0]  # Get the first graph object.\n",
    "\n",
    "#print(data)\n",
    "#print('==============================================================')\n",
    "\n",
    "# Gather some statistics about the graph.\n",
    "#print(f'Number of nodes: {data.num_nodes}')\n",
    "#print(f'Number of edges: {data.num_edges}')\n",
    "#print(f'Average node degree: {data.num_edges / data.num_nodes:.2f}')\n",
    "#print(f'Number of training nodes: {data.train_mask.sum()}')\n",
    "#print(f'Number of validation nodes: {data.test_mask.sum()}')\n",
    "#print(f'Number of test nodes: {data.val_mask.sum()}')\n",
    "#print(f'Training node label rate: {int(data.train_mask.sum()) / data.num_nodes:.2f}')\n",
    "#print(f'Contains isolated nodes: {data.contains_isolated_nodes()}')\n",
    "#print(f'Contains self-loops: {data.contains_self_loops()}')\n",
    "#print(f'Is undirected: {data.is_undirected()}')"
   ]
  },
  {
   "cell_type": "code",
   "execution_count": 5,
   "metadata": {},
   "outputs": [],
   "source": [
    "#output = torch.bitwise_or(data.test_mask, data.train_mask)\n",
    "#out = torch.bitwise_or(output, data.val_mask)\n",
    "#print(out.sum())"
   ]
  },
  {
   "cell_type": "code",
   "execution_count": 6,
<<<<<<< HEAD
   "id": "a1f0a745",
=======
>>>>>>> 56eb62f48b9e12e590414d7e670e65c126efe736
   "metadata": {},
   "outputs": [
    {
     "name": "stdout",
     "output_type": "stream",
     "text": [
      "tensor([[   0,  372],\n",
      "        [   0, 1101],\n",
      "        [   0,  766],\n",
      "        ...,\n",
      "        [1744, 1745],\n",
      "        [1745, 1744],\n",
      "        [1749, 1739]])\n"
     ]
    }
   ],
   "source": [
    "edge_index = data.edge_index\n",
    "print(edge_index.t())"
   ]
  },
  {
   "cell_type": "code",
   "execution_count": 7,
<<<<<<< HEAD
   "id": "89589caa",
=======
>>>>>>> 56eb62f48b9e12e590414d7e670e65c126efe736
   "metadata": {},
   "outputs": [],
   "source": [
    "#visualize(data.x, color=data.y)"
   ]
  },
  {
   "cell_type": "code",
   "execution_count": 8,
<<<<<<< HEAD
   "id": "cc18c9fa",
=======
>>>>>>> 56eb62f48b9e12e590414d7e670e65c126efe736
   "metadata": {},
   "outputs": [],
   "source": [
    "class Net(torch.nn.Module):\n",
    "    def __init__(self):\n",
    "        super(Net, self).__init__()\n",
    "        self.conv1 = GATConv(train_dataset.num_features, 64, heads=4)\n",
    "        self.lin1 = torch.nn.Linear(train_dataset.num_features, 4 * 64)\n",
    "        self.conv2 = GATConv(4 * 64, 64, heads=4)\n",
    "        self.lin2 = torch.nn.Linear(4 * 64, 4 * 64)\n",
    "        self.conv3 = GATConv(4 * 64, train_dataset.num_classes, heads=6,\n",
    "                             concat=False)\n",
    "        self.lin3 = torch.nn.Linear(4 * 64, train_dataset.num_classes)\n",
    "\n",
    "    def forward(self, x, edge_index):\n",
    "        x = F.elu(self.conv1(x, edge_index) + self.lin1(x))\n",
    "        x = F.elu(self.conv2(x, edge_index) + self.lin2(x))\n",
    "        x = self.conv3(x, edge_index) + self.lin3(x)\n",
    "        return x"
   ]
  },
  {
   "cell_type": "code",
   "execution_count": 9,
<<<<<<< HEAD
   "id": "3febaf79",
=======
>>>>>>> 56eb62f48b9e12e590414d7e670e65c126efe736
   "metadata": {},
   "outputs": [
    {
     "ename": "TypeError",
     "evalue": "__init__() takes 1 positional argument but 3 were given",
     "output_type": "error",
     "traceback": [
      "\u001b[1;31m---------------------------------------------------------------------------\u001b[0m",
      "\u001b[1;31mTypeError\u001b[0m                                 Traceback (most recent call last)",
      "\u001b[1;32m<ipython-input-9-7a816e04c381>\u001b[0m in \u001b[0;36m<module>\u001b[1;34m\u001b[0m\n\u001b[0;32m      1\u001b[0m \u001b[0mdevice\u001b[0m \u001b[1;33m=\u001b[0m \u001b[0mtorch\u001b[0m\u001b[1;33m.\u001b[0m\u001b[0mdevice\u001b[0m\u001b[1;33m(\u001b[0m\u001b[1;34m'cuda'\u001b[0m \u001b[1;32mif\u001b[0m \u001b[0mtorch\u001b[0m\u001b[1;33m.\u001b[0m\u001b[0mcuda\u001b[0m\u001b[1;33m.\u001b[0m\u001b[0mis_available\u001b[0m\u001b[1;33m(\u001b[0m\u001b[1;33m)\u001b[0m \u001b[1;32melse\u001b[0m \u001b[1;34m'cpu'\u001b[0m\u001b[1;33m)\u001b[0m\u001b[1;33m\u001b[0m\u001b[1;33m\u001b[0m\u001b[0m\n\u001b[1;32m----> 2\u001b[1;33m \u001b[0mmodel\u001b[0m \u001b[1;33m=\u001b[0m \u001b[0mNet\u001b[0m\u001b[1;33m(\u001b[0m\u001b[0mdataset\u001b[0m\u001b[1;33m.\u001b[0m\u001b[0mnum_features\u001b[0m\u001b[1;33m,\u001b[0m \u001b[0mdataset\u001b[0m\u001b[1;33m.\u001b[0m\u001b[0mnum_classes\u001b[0m\u001b[1;33m)\u001b[0m\u001b[1;33m.\u001b[0m\u001b[0mto\u001b[0m\u001b[1;33m(\u001b[0m\u001b[0mdevice\u001b[0m\u001b[1;33m)\u001b[0m\u001b[1;33m\u001b[0m\u001b[1;33m\u001b[0m\u001b[0m\n\u001b[0m\u001b[0;32m      3\u001b[0m \u001b[0mdata\u001b[0m \u001b[1;33m=\u001b[0m \u001b[0mdata\u001b[0m\u001b[1;33m.\u001b[0m\u001b[0mto\u001b[0m\u001b[1;33m(\u001b[0m\u001b[0mdevice\u001b[0m\u001b[1;33m)\u001b[0m\u001b[1;33m\u001b[0m\u001b[1;33m\u001b[0m\u001b[0m\n\u001b[0;32m      4\u001b[0m \u001b[0mlabels\u001b[0m \u001b[1;33m=\u001b[0m \u001b[0mdata\u001b[0m\u001b[1;33m.\u001b[0m\u001b[0my\u001b[0m\u001b[1;33m.\u001b[0m\u001b[0mclone\u001b[0m\u001b[1;33m(\u001b[0m\u001b[1;33m)\u001b[0m\u001b[1;33m.\u001b[0m\u001b[0mdetach\u001b[0m\u001b[1;33m(\u001b[0m\u001b[1;33m)\u001b[0m\u001b[1;33m.\u001b[0m\u001b[0mcpu\u001b[0m\u001b[1;33m(\u001b[0m\u001b[1;33m)\u001b[0m\u001b[1;33m\u001b[0m\u001b[1;33m\u001b[0m\u001b[0m\n\u001b[0;32m      5\u001b[0m \u001b[0moptimizer\u001b[0m \u001b[1;33m=\u001b[0m \u001b[0mtorch\u001b[0m\u001b[1;33m.\u001b[0m\u001b[0moptim\u001b[0m\u001b[1;33m.\u001b[0m\u001b[0mAdam\u001b[0m\u001b[1;33m(\u001b[0m\u001b[0mmodel\u001b[0m\u001b[1;33m.\u001b[0m\u001b[0mparameters\u001b[0m\u001b[1;33m(\u001b[0m\u001b[1;33m)\u001b[0m\u001b[1;33m,\u001b[0m \u001b[0mlr\u001b[0m\u001b[1;33m=\u001b[0m\u001b[1;36m0.005\u001b[0m\u001b[1;33m,\u001b[0m \u001b[0mweight_decay\u001b[0m\u001b[1;33m=\u001b[0m\u001b[1;36m5e-4\u001b[0m\u001b[1;33m)\u001b[0m\u001b[1;33m\u001b[0m\u001b[1;33m\u001b[0m\u001b[0m\n",
      "\u001b[1;31mTypeError\u001b[0m: __init__() takes 1 positional argument but 3 were given"
     ]
    }
   ],
   "source": [
    "device = torch.device('cuda' if torch.cuda.is_available() else 'cpu')\n",
    "model = Net().to(device)\n",
    "loss_op = torch.nn.BCEWithLogitsLoss()\n",
    "optimizer = torch.optim.Adam(model.parameters(), lr=0.005)"
   ]
  },
  {
   "cell_type": "code",
<<<<<<< HEAD
   "execution_count": 10,
   "id": "6e39c933",
=======
   "execution_count": null,
>>>>>>> 56eb62f48b9e12e590414d7e670e65c126efe736
   "metadata": {},
   "outputs": [],
   "source": [
    "def train():\n",
    "    model.train()\n",
    "\n",
    "    total_loss = 0\n",
    "    for data in train_loader:\n",
    "        data = data.to(device)\n",
    "        optimizer.zero_grad()\n",
    "        loss = loss_op(model(data.x, data.edge_index), data.y)\n",
    "        total_loss += loss.item() * data.num_graphs\n",
    "        loss.backward()\n",
    "        optimizer.step()\n",
    "    return total_loss / len(train_loader.dataset)"
   ]
  },
  {
   "cell_type": "code",
<<<<<<< HEAD
   "execution_count": 11,
   "id": "cfbc2102",
=======
   "execution_count": null,
>>>>>>> 56eb62f48b9e12e590414d7e670e65c126efe736
   "metadata": {},
   "outputs": [],
   "source": [
    "@torch.no_grad()\n",
    "def test(loader):\n",
    "    model.eval()\n",
    "\n",
    "    ys, preds = [], []\n",
    "    for data in loader:\n",
    "        ys.append(data.y)\n",
    "        out = model(data.x.to(device), data.edge_index.to(device))\n",
    "        preds.append((out > 0).float().cpu())\n",
    "\n",
    "    y, pred = torch.cat(ys, dim=0).numpy(), torch.cat(preds, dim=0).numpy()\n",
    "    return f1_score(y, pred, average='micro') if pred.sum() > 0 else 0"
   ]
  },
  {
   "cell_type": "code",
<<<<<<< HEAD
   "execution_count": 12,
   "id": "87c4af49",
   "metadata": {},
   "outputs": [
    {
     "output_type": "stream",
     "name": "stdout",
     "text": [
      "Epoch: 01, Loss: 0.5681, Val: 0.4805, Test: 0.4854\n",
      "Epoch: 02, Loss: 0.5005, Val: 0.5325, Test: 0.5394\n",
      "Epoch: 03, Loss: 0.4648, Val: 0.5723, Test: 0.5826\n",
      "Epoch: 04, Loss: 0.4282, Val: 0.6454, Test: 0.6599\n",
      "Epoch: 05, Loss: 0.3950, Val: 0.6458, Test: 0.6646\n",
      "Epoch: 06, Loss: 0.3612, Val: 0.6884, Test: 0.7073\n",
      "Epoch: 07, Loss: 0.3383, Val: 0.7385, Test: 0.7621\n",
      "Epoch: 08, Loss: 0.2951, Val: 0.7680, Test: 0.7917\n",
      "Epoch: 09, Loss: 0.2674, Val: 0.7863, Test: 0.8115\n",
      "Epoch: 10, Loss: 0.2525, Val: 0.7834, Test: 0.8113\n",
      "Epoch: 11, Loss: 0.2402, Val: 0.8118, Test: 0.8391\n",
      "Epoch: 12, Loss: 0.2074, Val: 0.8266, Test: 0.8555\n",
      "Epoch: 13, Loss: 0.1941, Val: 0.8437, Test: 0.8710\n",
      "Epoch: 14, Loss: 0.1775, Val: 0.8576, Test: 0.8837\n",
      "Epoch: 15, Loss: 0.1657, Val: 0.8630, Test: 0.8918\n",
      "Epoch: 16, Loss: 0.1517, Val: 0.8718, Test: 0.8993\n",
      "Epoch: 17, Loss: 0.1426, Val: 0.8780, Test: 0.9048\n",
      "Epoch: 18, Loss: 0.1353, Val: 0.8883, Test: 0.9151\n",
      "Epoch: 19, Loss: 0.1256, Val: 0.8923, Test: 0.9176\n",
      "Epoch: 20, Loss: 0.1230, Val: 0.8835, Test: 0.9098\n",
      "Epoch: 21, Loss: 0.1153, Val: 0.8933, Test: 0.9180\n",
      "Epoch: 22, Loss: 0.1093, Val: 0.9032, Test: 0.9293\n",
      "Epoch: 23, Loss: 0.1054, Val: 0.9023, Test: 0.9279\n",
      "Epoch: 24, Loss: 0.1076, Val: 0.9027, Test: 0.9285\n",
      "Epoch: 25, Loss: 0.0965, Val: 0.9107, Test: 0.9350\n",
      "Epoch: 26, Loss: 0.0865, Val: 0.9174, Test: 0.9413\n",
      "Epoch: 27, Loss: 0.0804, Val: 0.9199, Test: 0.9440\n",
      "Epoch: 28, Loss: 0.0783, Val: 0.9219, Test: 0.9454\n",
      "Epoch: 29, Loss: 0.0744, Val: 0.9254, Test: 0.9475\n",
      "Epoch: 30, Loss: 0.0763, Val: 0.9253, Test: 0.9481\n",
      "Epoch: 31, Loss: 0.0707, Val: 0.9264, Test: 0.9497\n",
      "Epoch: 32, Loss: 0.0741, Val: 0.9243, Test: 0.9466\n",
      "Epoch: 33, Loss: 0.0726, Val: 0.9267, Test: 0.9498\n",
      "Epoch: 34, Loss: 0.0653, Val: 0.9294, Test: 0.9523\n",
      "Epoch: 35, Loss: 0.0607, Val: 0.9337, Test: 0.9552\n",
      "Epoch: 36, Loss: 0.0571, Val: 0.9364, Test: 0.9577\n",
      "Epoch: 37, Loss: 0.0526, Val: 0.9386, Test: 0.9589\n",
      "Epoch: 38, Loss: 0.0531, Val: 0.9357, Test: 0.9573\n",
      "Epoch: 39, Loss: 0.0530, Val: 0.9309, Test: 0.9528\n",
      "Epoch: 40, Loss: 0.0545, Val: 0.9385, Test: 0.9585\n",
      "Epoch: 41, Loss: 0.0534, Val: 0.9392, Test: 0.9596\n",
      "Epoch: 42, Loss: 0.0490, Val: 0.9418, Test: 0.9619\n",
      "Epoch: 43, Loss: 0.0455, Val: 0.9439, Test: 0.9632\n",
      "Epoch: 44, Loss: 0.0459, Val: 0.9434, Test: 0.9633\n",
      "Epoch: 45, Loss: 0.0460, Val: 0.9396, Test: 0.9589\n",
      "Epoch: 46, Loss: 0.0475, Val: 0.9402, Test: 0.9601\n",
      "Epoch: 47, Loss: 0.0453, Val: 0.9443, Test: 0.9640\n",
      "Epoch: 48, Loss: 0.0413, Val: 0.9410, Test: 0.9607\n",
      "Epoch: 49, Loss: 0.0407, Val: 0.9436, Test: 0.9622\n",
      "Epoch: 50, Loss: 0.0401, Val: 0.9479, Test: 0.9661\n"
     ]
    }
   ],
=======
   "execution_count": null,
   "metadata": {},
   "outputs": [],
>>>>>>> 56eb62f48b9e12e590414d7e670e65c126efe736
   "source": [
    "for epoch in range(1, 51):\n",
    "    loss = train()\n",
    "    val_f1 = test(val_loader)\n",
    "    test_f1 = test(test_loader)\n",
    "    print('Epoch: {:02d}, Loss: {:.4f}, Val: {:.4f}, Test: {:.4f}'.format(\n",
    "        epoch, loss, val_f1, test_f1))"
   ]
  },
  {
   "cell_type": "code",
<<<<<<< HEAD
   "execution_count": 14,
   "id": "040a18bb",
=======
   "execution_count": null,
>>>>>>> 56eb62f48b9e12e590414d7e670e65c126efe736
   "metadata": {},
   "outputs": [],
   "source": [
    "#out = model(data.x, data.edge_index)\n",
    "#labels = data.y.clone().detach().cpu()\n",
    "#visualize(out, color=labels)"
   ]
  },
  {
   "cell_type": "code",
   "execution_count": null,
   "metadata": {},
   "outputs": [],
   "source": []
  }
 ],
 "metadata": {
  "kernelspec": {
   "display_name": "Python 3",
   "language": "python",
   "name": "python3"
  },
  "language_info": {
   "codemirror_mode": {
    "name": "ipython",
    "version": 3
   },
   "file_extension": ".py",
   "mimetype": "text/x-python",
   "name": "python",
   "nbconvert_exporter": "python",
   "pygments_lexer": "ipython3",
   "version": "3.8.5"
  }
 },
 "nbformat": 4,
 "nbformat_minor": 5
}
