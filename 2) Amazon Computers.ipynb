{
 "cells": [
  {
   "cell_type": "markdown",
   "id": "ed3d1f3e",
   "metadata": {},
   "source": [
    "scource code base: https://github.com/rusty1s/pytorch_geometric/blob/master/examples/gat.py"
   ]
  },
  {
   "cell_type": "code",
   "execution_count": 1,
   "id": "4b65b4ec",
   "metadata": {},
   "outputs": [],
   "source": [
    "import os.path as osp\n",
    "\n",
    "import torch\n",
    "import torch.nn.functional as F\n",
    "from torch_geometric.datasets import Amazon\n",
    "import torch_geometric.transforms as T\n",
    "from torch_geometric.nn import GATConv\n",
    "\n",
    "import networkx as nx\n",
    "import matplotlib.pyplot as plt\n",
    "from sklearn.manifold import TSNE\n",
    "    \n",
    "def visualize(h, color):\n",
    "    z = TSNE(n_components=2).fit_transform(h.detach().cpu().numpy())\n",
    "\n",
    "    plt.figure(figsize=(10,10))\n",
    "    plt.xticks([])\n",
    "    plt.yticks([])\n",
    "\n",
    "    plt.scatter(z[:, 0], z[:, 1], s=70, c=color, cmap=\"Set2\")\n",
    "    plt.show()"
   ]
  },
  {
   "cell_type": "code",
   "execution_count": 2,
   "id": "80464ade",
   "metadata": {},
   "outputs": [],
   "source": [
    "dataset = 'computers'\n",
    "path = osp.join(osp.dirname(osp.realpath('__file__')), 'data', dataset)\n",
    "dataset = Amazon(path, dataset, transform=T.NormalizeFeatures())\n",
    "data = dataset[0]"
   ]
  },
  {
   "cell_type": "code",
   "execution_count": 3,
   "id": "8f0eef84",
   "metadata": {},
   "outputs": [
    {
     "name": "stdout",
     "output_type": "stream",
     "text": [
      "Dataset: AmazonComputers():\n",
      "======================\n",
      "Number of graphs: 1\n",
      "Number of features: 767\n",
      "Number of classes: 10\n"
     ]
    }
   ],
   "source": [
    "print(f'Dataset: {dataset}:')\n",
    "print('======================')\n",
    "print(f'Number of graphs: {len(dataset)}')\n",
    "print(f'Number of features: {dataset.num_features}')\n",
    "print(f'Number of classes: {dataset.num_classes}')"
   ]
  },
  {
   "cell_type": "code",
   "execution_count": 4,
   "id": "160d788c",
   "metadata": {},
   "outputs": [
    {
     "name": "stdout",
     "output_type": "stream",
     "text": [
      "84\n",
      "Data(edge_index=[2, 491722], test_mask=[13752], train_mask=[13752], val_mask=[13752], x=[13752, 767], y=[13752])\n",
      "Data(edge_index=[2, 491722], test_mask=[13752], train_mask=[13752], val_mask=[13752], x=[13752, 767], y=[13752])\n",
      "==============================================================\n",
      "Number of nodes: 13752\n",
      "Number of edges: 491722\n",
      "Average node degree: 35.76\n",
      "Number of training nodes: 84\n",
      "Number of validation nodes: 500\n",
      "Number of testing nodes: 1000\n",
      "Training node label rate: 0.01\n",
      "Contains isolated nodes: True\n",
      "Contains self-loops: False\n",
      "Is undirected: True\n"
     ]
    }
   ],
   "source": [
    "data = dataset[0]  # Get the first graph object.\n",
    "num_train_nodes = 84\n",
    "num_valid_nodes = 500\n",
    "num_test_nodes = 1000\n",
    "\n",
    "if not hasattr(data, 'train_mask'):\n",
    "    # Number of nodes\n",
    "    num_nodes = data.num_nodes\n",
    "    \n",
    "    # Init training, validation and test masks: [False, ..., False]\n",
    "    train_mask = torch.zeros(num_nodes, dtype=torch.bool)\n",
    "    val_mask = torch.zeros(num_nodes, dtype=torch.bool)\n",
    "    test_mask = torch.zeros(num_nodes, dtype=torch.bool)\n",
    "    \n",
    "    \n",
    "    train_index = num_train_nodes\n",
    "    valid_index = train_index + num_valid_nodes\n",
    "    test_index = valid_index + num_test_nodes\n",
    "    \n",
    "    print(train_index)\n",
    "    \n",
    "    train_mask[ :train_index] = True             \n",
    "    val_mask[train_index:valid_index] = True    \n",
    "    test_mask[valid_index:test_index] = True      \n",
    "    \n",
    "    data.train_mask = train_mask\n",
    "    data.val_mask = val_mask\n",
    "    data.test_mask = test_mask\n",
    "    \n",
    "    \n",
    "\n",
    "print(data)\n",
    "\n",
    "print(data)\n",
    "print('==============================================================')\n",
    "\n",
    "# Gather some statistics about the graph.\n",
    "print(f'Number of nodes: {data.num_nodes}')\n",
    "print(f'Number of edges: {data.num_edges}')\n",
    "print(f'Average node degree: {data.num_edges / data.num_nodes:.2f}')\n",
    "print(f'Number of training nodes: {data.train_mask.sum()}')\n",
    "print(f'Number of validation nodes: {data.val_mask.sum()}')\n",
    "print(f'Number of testing nodes: {data.test_mask.sum()}')\n",
    "print(f'Training node label rate: {int(data.train_mask.sum()) / data.num_nodes:.2f}')\n",
    "print(f'Contains isolated nodes: {data.contains_isolated_nodes()}')\n",
    "print(f'Contains self-loops: {data.contains_self_loops()}')\n",
    "print(f'Is undirected: {data.is_undirected()}')"
   ]
  },
  {
   "cell_type": "code",
   "execution_count": 5,
   "id": "96854635",
   "metadata": {},
   "outputs": [
    {
     "name": "stdout",
     "output_type": "stream",
     "text": [
      "tensor([[    0,   507],\n",
      "        [    0,  6551],\n",
      "        [    0,  8210],\n",
      "        ...,\n",
      "        [13751, 12751],\n",
      "        [13751, 13019],\n",
      "        [13751, 13121]])\n"
     ]
    }
   ],
   "source": [
    "edge_index = data.edge_index\n",
    "print(edge_index.t())"
   ]
  },
  {
   "cell_type": "code",
   "execution_count": null,
   "id": "03e7c3e6",
   "metadata": {},
   "outputs": [],
   "source": [
    "visualize(data.x, color=data.y)"
   ]
  },
  {
   "cell_type": "code",
   "execution_count": 11,
   "id": "c5de8d5b",
   "metadata": {},
   "outputs": [],
   "source": [
    "num_attention_heads = 8\n",
    "num_featueres_per_layer =  64\n",
    "class Net(torch.nn.Module):\n",
    "    def __init__(self, in_channels, out_channels):\n",
    "        super(Net, self).__init__()\n",
    "\n",
    "        self.conv1 = GATConv(in_channels, num_featueres_per_layer, heads=num_attention_heads, dropout=0.6)\n",
    "        self.conv2 = GATConv(num_featueres_per_layer * num_attention_heads, num_featueres_per_layer, heads=num_attention_heads, dropout=0.6)\n",
    "        self.conv3 = GATConv(num_featueres_per_layer * num_attention_heads, out_channels, heads=6, concat=False,\n",
    "                             dropout=0.6)\n",
    "\n",
    "    def forward(self, x, edge_index):\n",
    "        x = F.dropout(x, p=0.6, training=self.training)\n",
    "        x = F.elu(self.conv1(x, edge_index))\n",
    "        x = F.dropout(x, p=0.6, training=self.training)\n",
    "        x = F.elu(self.conv2(x, edge_index))\n",
    "        x = F.dropout(x, p=0.6, training=self.training)\n",
    "        x = self.conv3(x, edge_index)\n",
    "        return F.log_softmax(x, dim=-1)"
   ]
  },
  {
   "cell_type": "code",
   "execution_count": 12,
   "id": "7ea5781b",
   "metadata": {},
   "outputs": [],
   "source": [
    "device = torch.device('cuda' if torch.cuda.is_available() else 'cpu')\n",
    "#device = 'cpu'\n",
    "model = Net(dataset.num_features, dataset.num_classes).to(device)\n",
    "data = data.to(device)\n",
    "labels = data.y.clone().detach().cpu()\n",
    "optimizer = torch.optim.Adam(model.parameters(), lr=0.005)"
   ]
  },
  {
   "cell_type": "code",
   "execution_count": 13,
   "id": "3ae54e97",
   "metadata": {},
   "outputs": [],
   "source": [
    "def train(data):\n",
    "    model.train()\n",
    "    optimizer.zero_grad()\n",
    "    out = model(data.x, data.edge_index)\n",
    "    loss = F.nll_loss(out[data.train_mask], data.y[data.train_mask])\n",
    "    loss.backward()\n",
    "    optimizer.step()\n",
    "    return out"
   ]
  },
  {
   "cell_type": "code",
   "execution_count": 14,
   "id": "72f6d31c",
   "metadata": {},
   "outputs": [],
   "source": [
    "@torch.no_grad()\n",
    "def test(data):\n",
    "    model.eval()\n",
    "    out, accs = model(data.x, data.edge_index), []\n",
    "    for _, mask in data('train_mask', 'val_mask', 'test_mask'):\n",
    "        acc = float((out[mask].argmax(-1) == data.y[mask]).sum() / mask.sum())\n",
    "        accs.append(acc)\n",
    "    return accs"
   ]
  },
  {
   "cell_type": "code",
   "execution_count": 15,
   "id": "27546407",
   "metadata": {},
   "outputs": [
    {
     "name": "stdout",
     "output_type": "stream",
     "text": [
      "Epoch: 010, Train: 0.4048, Val: 0.3780, Test: 0.3940\n",
      "Epoch: 020, Train: 0.4048, Val: 0.3780, Test: 0.3940\n",
      "Epoch: 030, Train: 0.4405, Val: 0.3960, Test: 0.4010\n",
      "Epoch: 040, Train: 0.6429, Val: 0.5780, Test: 0.5680\n",
      "Epoch: 050, Train: 0.7143, Val: 0.6020, Test: 0.6270\n",
      "Epoch: 060, Train: 0.7143, Val: 0.6500, Test: 0.6520\n",
      "Epoch: 070, Train: 0.7619, Val: 0.6700, Test: 0.6820\n",
      "Epoch: 080, Train: 0.7976, Val: 0.6880, Test: 0.6890\n",
      "Epoch: 090, Train: 0.8452, Val: 0.6820, Test: 0.7110\n",
      "Epoch: 100, Train: 0.8571, Val: 0.7180, Test: 0.7260\n"
     ]
    }
   ],
   "source": [
    "for epoch in range(1, 101):\n",
    "    out = train(data)\n",
    "    train_acc, val_acc, test_acc = test(data)\n",
    "    if epoch % 10 == 0:\n",
    "        #visualize(out, color=labels)\n",
    "        print(f'Epoch: {epoch:03d}, Train: {train_acc:.4f}, Val: {val_acc:.4f}, '\n",
    "          f'Test: {test_acc:.4f}')"
   ]
  },
  {
   "cell_type": "code",
   "execution_count": null,
   "id": "2525b4ba",
   "metadata": {},
   "outputs": [],
   "source": [
    "out = model(data.x, data.edge_index)\n",
    "visualize(out, color=labels)"
   ]
  }
 ],
 "metadata": {
  "kernelspec": {
   "display_name": "Python 3",
   "language": "python",
   "name": "python3"
  },
  "language_info": {
   "codemirror_mode": {
    "name": "ipython",
    "version": 3
   },
   "file_extension": ".py",
   "mimetype": "text/x-python",
   "name": "python",
   "nbconvert_exporter": "python",
   "pygments_lexer": "ipython3",
   "version": "3.8.10"
  }
 },
 "nbformat": 4,
 "nbformat_minor": 5
}
