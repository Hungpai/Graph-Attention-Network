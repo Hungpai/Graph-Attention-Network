{
 "cells": [
  {
   "cell_type": "markdown",
   "id": "e9c5b19b",
   "metadata": {},
   "source": [
    "Source code from:\n",
    "https://github.com/rusty1s/pytorch_geometric/blob/master/examples/gat.py"
   ]
  },
  {
   "source": [],
   "cell_type": "markdown",
   "metadata": {}
  },
  {
   "cell_type": "code",
   "execution_count": 1,
   "id": "b8c399cb",
   "metadata": {},
   "outputs": [],
   "source": [
    "import os.path as osp\n",
    "\n",
    "import torch\n",
    "import torch.nn.functional as F\n",
    "from torch_geometric.datasets import Planetoid\n",
    "import torch_geometric.transforms as T\n",
    "from torch_geometric.nn import GATConv\n",
    "\n",
    "import networkx as nx\n",
    "import matplotlib.pyplot as plt\n",
    "from sklearn.manifold import TSNE\n",
    "    \n",
    "def visualize(h, color):\n",
    "    z = TSNE(n_components=2).fit_transform(h.detach().cpu().numpy())\n",
    "\n",
    "    plt.figure(figsize=(10,10))\n",
    "    plt.xticks([])\n",
    "    plt.yticks([])\n",
    "\n",
    "    plt.scatter(z[:, 0], z[:, 1], s=70, c=color, cmap=\"Set2\")\n",
    "    plt.show()"
   ]
  },
  {
   "cell_type": "code",
   "execution_count": 2,
   "id": "da1f3e9b",
   "metadata": {},
   "outputs": [],
   "source": [
    "dataset = 'Cora'\n",
    "path = osp.join(osp.dirname(osp.realpath('__file__')), 'data', dataset)\n",
    "dataset = Planetoid(path, dataset, transform=T.NormalizeFeatures())\n",
    "data = dataset[0]"
   ]
  },
  {
   "cell_type": "code",
   "execution_count": 3,
   "id": "4df4b1ee",
   "metadata": {},
   "outputs": [
    {
     "output_type": "stream",
     "name": "stdout",
     "text": [
      "Dataset: Cora():\n======================\nNumber of graphs: 1\nNumber of features: 1433\nNumber of classes: 7\n"
     ]
    }
   ],
   "source": [
    "print(f'Dataset: {dataset}:')\n",
    "print('======================')\n",
    "print(f'Number of graphs: {len(dataset)}')\n",
    "print(f'Number of features: {dataset.num_features}')\n",
    "print(f'Number of classes: {dataset.num_classes}')"
   ]
  },
  {
   "cell_type": "code",
   "execution_count": 4,
   "id": "c8d41a2d",
   "metadata": {},
   "outputs": [
    {
     "output_type": "stream",
     "name": "stdout",
     "text": [
      "Data(edge_index=[2, 10556], test_mask=[2708], train_mask=[2708], val_mask=[2708], x=[2708, 1433], y=[2708])\n==============================================================\nNumber of nodes: 2708\nNumber of edges: 10556\nAverage node degree: 3.90\nNumber of training nodes: 140\nNumber of validation nodes: 1000\nNumber of test nodes: 500\nTraining node label rate: 0.05\nContains isolated nodes: False\nContains self-loops: False\nIs undirected: True\n"
     ]
    }
   ],
   "source": [
    "data = dataset[0]  # Get the first graph object.\n",
    "\n",
    "print(data)\n",
    "print('==============================================================')\n",
    "\n",
    "# Gather some statistics about the graph.\n",
    "print(f'Number of nodes: {data.num_nodes}')\n",
    "print(f'Number of edges: {data.num_edges}')\n",
    "print(f'Average node degree: {data.num_edges / data.num_nodes:.2f}')\n",
    "print(f'Number of training nodes: {data.train_mask.sum()}')\n",
    "print(f'Number of validation nodes: {data.test_mask.sum()}')\n",
    "print(f'Number of test nodes: {data.val_mask.sum()}')\n",
    "print(f'Training node label rate: {int(data.train_mask.sum()) / data.num_nodes:.2f}')\n",
    "print(f'Contains isolated nodes: {data.contains_isolated_nodes()}')\n",
    "print(f'Contains self-loops: {data.contains_self_loops()}')\n",
    "print(f'Is undirected: {data.is_undirected()}')"
   ]
  },
  {
   "cell_type": "code",
   "execution_count": 5,
   "id": "86a8568a",
   "metadata": {},
   "outputs": [
    {
     "output_type": "stream",
     "name": "stdout",
     "text": [
      "tensor(1640)\n"
     ]
    }
   ],
   "source": [
    "output = torch.bitwise_or(data.test_mask, data.train_mask)\n",
    "out = torch.bitwise_or(output, data.val_mask)\n",
    "print(out.sum())"
   ]
  },
  {
   "cell_type": "code",
   "execution_count": 6,
   "id": "a1f0a745",
   "metadata": {},
   "outputs": [
    {
     "output_type": "stream",
     "name": "stdout",
     "text": [
      "tensor([[   0,  633],\n        [   0, 1862],\n        [   0, 2582],\n        ...,\n        [2707,  598],\n        [2707, 1473],\n        [2707, 2706]])\n"
     ]
    }
   ],
   "source": [
    "edge_index = data.edge_index\n",
    "print(edge_index.t())"
   ]
  },
  {
   "cell_type": "code",
   "execution_count": 7,
   "id": "89589caa",
   "metadata": {},
   "outputs": [],
   "source": [
    "#visualize(data.x, color=data.y)"
   ]
  },
  {
   "cell_type": "code",
   "execution_count": 8,
   "id": "cc18c9fa",
   "metadata": {},
   "outputs": [],
   "source": [
    "class Net(torch.nn.Module):\n",
    "    def __init__(self, in_channels, out_channels):\n",
    "        super(Net, self).__init__()\n",
    "\n",
    "        self.conv1 = GATConv(in_channels, 8, heads=8, dropout=0.6)\n",
    "        self.conv2 = GATConv(8 * 8, 8, heads=8, dropout=0.6)\n",
    "        self.conv3 = GATConv(8 * 8, 8, heads=8, dropout=0.6)\n",
    "        self.conv4 = GATConv(8 * 8, 8, heads=8, dropout=0.6)\n",
    "        self.conv5 = GATConv(8 * 8, 8, heads=8, dropout=0.6)\n",
    "        self.conv6 = GATConv(8 * 8, 8, heads=8, dropout=0.6)\n",
    "        self.conv7 = GATConv(8 * 8, 8, heads=8, dropout=0.6)\n",
    "        self.conv8 = GATConv(8 * 8, 8, heads=8, dropout=0.6)\n",
    "        self.conv9 = GATConv(8 * 8, 8, heads=8, dropout=0.6)\n",
    "        self.conv10 = GATConv(8 * 8, 8, heads=8, dropout=0.6)\n",
    "        self.conv11 = GATConv(8 * 8, 8, heads=8, dropout=0.6)\n",
    "        self.conv12 = GATConv(8 * 8, 8, heads=8, dropout=0.6)\n",
    "        self.conv13 = GATConv(8 * 8, 8, heads=8, dropout=0.6)\n",
    "        self.conv14 = GATConv(8 * 8, 8, heads=8, dropout=0.6)\n",
    "        self.conv15 = GATConv(8 * 8, 8, heads=8, dropout=0.6)\n",
    "        self.conv16 = GATConv(8 * 8, out_channels, heads=1, concat=False,\n",
    "                             dropout=0.6)\n",
    "\n",
    "    def forward(self, x, edge_index):\n",
    "        x = F.dropout(x, p=0.6, training=self.training)\n",
    "        x = F.elu(self.conv1(x, edge_index))\n",
    "        x = F.dropout(x, p=0.6, training=self.training)\n",
    "        x = F.elu(self.conv2(x, edge_index))\n",
    "        x = F.dropout(x, p=0.6, training=self.training)\n",
    "        x = F.elu(self.conv3(x, edge_index))\n",
    "        x = F.dropout(x, p=0.6, training=self.training)\n",
    "        x = F.elu(self.conv4(x, edge_index))\n",
    "        x = F.dropout(x, p=0.6, training=self.training)\n",
    "        x = F.elu(self.conv5(x, edge_index))\n",
    "        x = F.dropout(x, p=0.6, training=self.training)\n",
    "        x = F.elu(self.conv6(x, edge_index))\n",
    "        x = F.dropout(x, p=0.6, training=self.training)\n",
    "        x = F.elu(self.conv7(x, edge_index))\n",
    "        x = F.dropout(x, p=0.6, training=self.training)\n",
    "        x = F.elu(self.conv8(x, edge_index))\n",
    "        x = F.dropout(x, p=0.6, training=self.training)\n",
    "        x = F.elu(self.conv9(x, edge_index))\n",
    "        x = F.dropout(x, p=0.6, training=self.training)\n",
    "        x = F.elu(self.conv10(x, edge_index))\n",
    "        x = F.dropout(x, p=0.6, training=self.training)\n",
    "        x = F.elu(self.conv11(x, edge_index))\n",
    "        x = F.dropout(x, p=0.6, training=self.training)\n",
    "        x = F.elu(self.conv12(x, edge_index))\n",
    "        x = F.dropout(x, p=0.6, training=self.training)\n",
    "        x = F.elu(self.conv13(x, edge_index))\n",
    "        x = F.dropout(x, p=0.6, training=self.training)\n",
    "        x = F.elu(self.conv14(x, edge_index))\n",
    "        x = F.dropout(x, p=0.6, training=self.training)\n",
    "        x = F.elu(self.conv15(x, edge_index))\n",
    "        x = F.dropout(x, p=0.6, training=self.training)\n",
    "        x = self.conv16(x, edge_index)\n",
    "        return F.log_softmax(x, dim=-1)\n"
   ]
  },
  {
   "cell_type": "code",
   "execution_count": 9,
   "id": "3febaf79",
   "metadata": {},
   "outputs": [],
   "source": [
    "device = torch.device('cuda' if torch.cuda.is_available() else 'cpu')\n",
    "model = Net(dataset.num_features, dataset.num_classes).to(device)\n",
    "data = data.to(device)\n",
    "labels = data.y.clone().detach().cpu()\n",
    "optimizer = torch.optim.Adam(model.parameters(), lr=0.005, weight_decay=5e-4)"
   ]
  },
  {
   "cell_type": "code",
   "execution_count": 10,
   "id": "6e39c933",
   "metadata": {},
   "outputs": [],
   "source": [
    "def train(data):\n",
    "    model.train()\n",
    "    optimizer.zero_grad()\n",
    "    out = model(data.x, data.edge_index)\n",
    "    loss = F.nll_loss(out[data.train_mask], data.y[data.train_mask])\n",
    "    loss.backward()\n",
    "    optimizer.step()\n",
    "    return out"
   ]
  },
  {
   "cell_type": "code",
   "execution_count": 11,
   "id": "cfbc2102",
   "metadata": {},
   "outputs": [],
   "source": [
    "@torch.no_grad()\n",
    "def test(data):\n",
    "    model.eval()\n",
    "    out, accs = model(data.x, data.edge_index), []\n",
    "    for _, mask in data('train_mask', 'val_mask', 'test_mask'):\n",
    "        acc = float((out[mask].argmax(-1) == data.y[mask]).sum() / mask.sum())\n",
    "        accs.append(acc)\n",
    "    return accs"
   ]
  },
  {
   "cell_type": "code",
   "execution_count": 12,
   "id": "87c4af49",
   "metadata": {},
   "outputs": [
    {
     "output_type": "stream",
     "name": "stdout",
     "text": [
      "Epoch: 010, Train: 0.1429, Val: 0.1220, Test: 0.1300\n",
      "Epoch: 020, Train: 0.1429, Val: 0.1220, Test: 0.1300\n",
      "Epoch: 030, Train: 0.1429, Val: 0.0720, Test: 0.0910\n",
      "Epoch: 040, Train: 0.1429, Val: 0.0720, Test: 0.0910\n",
      "Epoch: 050, Train: 0.1429, Val: 0.0720, Test: 0.0910\n",
      "Epoch: 060, Train: 0.1429, Val: 0.0720, Test: 0.0910\n",
      "Epoch: 070, Train: 0.1429, Val: 0.0720, Test: 0.0910\n",
      "Epoch: 080, Train: 0.1429, Val: 0.0580, Test: 0.0640\n",
      "Epoch: 090, Train: 0.1429, Val: 0.0580, Test: 0.0640\n",
      "Epoch: 100, Train: 0.1429, Val: 0.0580, Test: 0.0640\n",
      "Epoch: 110, Train: 0.1429, Val: 0.0580, Test: 0.0640\n",
      "Epoch: 120, Train: 0.1429, Val: 0.0580, Test: 0.0640\n",
      "Epoch: 130, Train: 0.1429, Val: 0.0580, Test: 0.0640\n",
      "Epoch: 140, Train: 0.1429, Val: 0.0580, Test: 0.0640\n",
      "Epoch: 150, Train: 0.1429, Val: 0.0580, Test: 0.0640\n",
      "Epoch: 160, Train: 0.1429, Val: 0.0580, Test: 0.0640\n",
      "Epoch: 170, Train: 0.1429, Val: 0.0580, Test: 0.0640\n",
      "Epoch: 180, Train: 0.1429, Val: 0.0580, Test: 0.0640\n",
      "Epoch: 190, Train: 0.1429, Val: 0.0580, Test: 0.0640\n",
      "Epoch: 200, Train: 0.1429, Val: 0.0580, Test: 0.0640\n"
     ]
    }
   ],
   "source": [
    "for epoch in range(1, 201):\n",
    "    out = train(data)\n",
    "    train_acc, val_acc, test_acc = test(data)\n",
    "    if epoch % 10 == 0:\n",
    "        #visualize(out, color=labels)\n",
    "        print(f'Epoch: {epoch:03d}, Train: {train_acc:.4f}, Val: {val_acc:.4f}, '\n",
    "          f'Test: {test_acc:.4f}')"
   ]
  },
  {
   "cell_type": "code",
   "execution_count": 13,
   "id": "040a18bb",
   "metadata": {},
   "outputs": [],
   "source": [
    "#out = model(data.x, data.edge_index)\n",
    "#labels = data.y.clone().detach().cpu()\n",
    "#isualize(out, color=labels)"
   ]
  },
  {
   "cell_type": "code",
   "execution_count": null,
   "id": "6384390a",
   "metadata": {},
   "outputs": [],
   "source": []
  }
 ],
 "metadata": {
  "kernelspec": {
   "display_name": "Python 3",
   "language": "python",
   "name": "python3"
  }
 },
 "nbformat": 4,
 "nbformat_minor": 5
}