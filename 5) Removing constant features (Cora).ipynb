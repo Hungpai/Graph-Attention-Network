{
 "cells": [
  {
   "cell_type": "markdown",
   "id": "d801bec8",
   "metadata": {},
   "source": [
    "Source code from:\n",
    "https://github.com/rusty1s/pytorch_geometric/blob/master/examples/gat.py"
   ]
  },
  {
   "cell_type": "code",
   "execution_count": 49,
   "id": "810e21fa",
   "metadata": {},
   "outputs": [],
   "source": [
    "import os.path as osp\n",
    "\n",
    "import torch\n",
    "import torch.nn.functional as F\n",
    "from torch_geometric.datasets import Planetoid\n",
    "import torch_geometric.transforms as T\n",
    "from torch_geometric.nn import GATConv\n",
    "\n",
    "import networkx as nx\n",
    "import matplotlib.pyplot as plt\n",
    "from sklearn.manifold import TSNE\n",
    "    \n",
    "def visualize(h, color):\n",
    "    z = TSNE(n_components=2).fit_transform(h.detach().cpu().numpy())\n",
    "\n",
    "    plt.figure(figsize=(10,10))\n",
    "    plt.xticks([])\n",
    "    plt.yticks([])\n",
    "\n",
    "    plt.scatter(z[:, 0], z[:, 1], s=70, c=color, cmap=\"Set2\")\n",
    "    plt.show()"
   ]
  },
  {
   "cell_type": "code",
   "execution_count": 50,
   "id": "49d90a91",
   "metadata": {},
   "outputs": [],
   "source": [
    "dataset = 'Cora'\n",
    "path = osp.join(osp.dirname(osp.realpath('__file__')), 'data', dataset)\n",
    "dataset = Planetoid(path, dataset, transform=T.NormalizeFeatures())\n",
    "data = dataset[0]"
   ]
  },
  {
   "cell_type": "code",
   "execution_count": 51,
   "id": "c1efbf36",
   "metadata": {},
   "outputs": [
    {
     "name": "stdout",
     "output_type": "stream",
     "text": [
      "Dataset: Cora():\n",
      "======================\n",
      "Number of graphs: 1\n",
      "Number of features: 1433\n",
      "Number of classes: 7\n"
     ]
    }
   ],
   "source": [
    "print(f'Dataset: {dataset}:')\n",
    "print('======================')\n",
    "print(f'Number of graphs: {len(dataset)}')\n",
    "print(f'Number of features: {dataset.num_features}')\n",
    "print(f'Number of classes: {dataset.num_classes}')"
   ]
  },
  {
   "cell_type": "code",
   "execution_count": 52,
   "id": "39c781bf",
   "metadata": {},
   "outputs": [
    {
     "name": "stdout",
     "output_type": "stream",
     "text": [
      "Data(edge_index=[2, 10556], test_mask=[2708], train_mask=[2708], val_mask=[2708], x=[2708, 1433], y=[2708])\n",
      "==============================================================\n",
      "Number of nodes: 2708\n",
      "Number of edges: 10556\n",
      "Average node degree: 3.90\n",
      "Number of training nodes: 140\n",
      "Number of validation nodes: 1000\n",
      "Number of test nodes: 500\n",
      "Training node label rate: 0.05\n",
      "Contains isolated nodes: False\n",
      "Contains self-loops: False\n",
      "Is undirected: True\n"
     ]
    }
   ],
   "source": [
    "data = dataset[0]  # Get the first graph object.\n",
    "\n",
    "print(data)\n",
    "print('==============================================================')\n",
    "\n",
    "# Gather some statistics about the graph.\n",
    "print(f'Number of nodes: {data.num_nodes}')\n",
    "print(f'Number of edges: {data.num_edges}')\n",
    "print(f'Average node degree: {data.num_edges / data.num_nodes:.2f}')\n",
    "print(f'Number of training nodes: {data.train_mask.sum()}')\n",
    "print(f'Number of validation nodes: {data.test_mask.sum()}')\n",
    "print(f'Number of test nodes: {data.val_mask.sum()}')\n",
    "print(f'Training node label rate: {int(data.train_mask.sum()) / data.num_nodes:.2f}')\n",
    "print(f'Contains isolated nodes: {data.contains_isolated_nodes()}')\n",
    "print(f'Contains self-loops: {data.contains_self_loops()}')\n",
    "print(f'Is undirected: {data.is_undirected()}')"
   ]
  },
  {
   "cell_type": "code",
   "execution_count": 53,
   "id": "26075d48",
   "metadata": {},
   "outputs": [
    {
     "name": "stdout",
     "output_type": "stream",
     "text": [
      "Number of features: 1433\n"
     ]
    }
   ],
   "source": [
    "# fix all features to a constant values\n",
    "data.x = torch.ones((2708, 1433)) * 5\n",
    "print(f'Number of features: {data.num_features}')"
   ]
  },
  {
   "cell_type": "code",
   "execution_count": 60,
   "id": "4ebb0057",
   "metadata": {},
   "outputs": [],
   "source": [
    "class Net(torch.nn.Module):\n",
    "    def __init__(self, in_channels, out_channels):\n",
    "        super(Net, self).__init__()\n",
    "\n",
    "        self.conv1 = GATConv(in_channels, 8, heads=8, dropout=0.6)\n",
    "        self.conv2 = GATConv(8 * 8, out_channels, heads=1, concat=False,\n",
    "                             dropout=0.6)\n",
    "\n",
    "    def forward(self, x, edge_index):\n",
    "        x = F.dropout(x, p=0.6, training=self.training)\n",
    "        x = F.elu(self.conv1(x, edge_index))\n",
    "        x = F.dropout(x, p=0.6, training=self.training)\n",
    "        x = self.conv2(x, edge_index)\n",
    "        return F.log_softmax(x, dim=-1)"
   ]
  },
  {
   "cell_type": "code",
   "execution_count": 61,
   "id": "623be0f3",
   "metadata": {},
   "outputs": [],
   "source": [
    "device = torch.device('cuda' if torch.cuda.is_available() else 'cpu')\n",
    "model = Net(data.num_features, dataset.num_classes).to(device)\n",
    "data = data.to(device)\n",
    "labels = data.y.clone().detach().cpu()\n",
    "optimizer = torch.optim.Adam(model.parameters(), lr=0.005, weight_decay=5e-4)"
   ]
  },
  {
   "cell_type": "code",
   "execution_count": 62,
   "id": "d38170d7",
   "metadata": {},
   "outputs": [],
   "source": [
    "def train(data):\n",
    "    model.train()\n",
    "    optimizer.zero_grad()\n",
    "    out = model(data.x, data.edge_index)\n",
    "    #print(out)\n",
    "    #print(data.y[data.train_mask])\n",
    "    loss = F.nll_loss(out[data.train_mask], data.y[data.train_mask])\n",
    "    #print(\"loss\",loss)\n",
    "    loss.backward()\n",
    "    optimizer.step()\n",
    "    return out"
   ]
  },
  {
   "cell_type": "code",
   "execution_count": 63,
   "id": "0a49b8cd",
   "metadata": {},
   "outputs": [],
   "source": [
    "@torch.no_grad()\n",
    "def test(data):\n",
    "    model.eval()\n",
    "    out, accs = model(data.x, data.edge_index), []\n",
    "    for _, mask in data('train_mask', 'val_mask', 'test_mask'):\n",
    "        acc = float((out[mask].argmax(-1) == data.y[mask]).sum() / mask.sum())\n",
    "        accs.append(acc)\n",
    "    return accs"
   ]
  },
  {
   "cell_type": "code",
   "execution_count": 64,
   "id": "f230fc17",
   "metadata": {},
   "outputs": [
    {
     "name": "stdout",
     "output_type": "stream",
     "text": [
      "Epoch: 010, Train: 0.1429, Val: 0.3160, Test: 0.3190\n",
      "Epoch: 020, Train: 0.1429, Val: 0.3160, Test: 0.3190\n",
      "Epoch: 030, Train: 0.1429, Val: 0.3160, Test: 0.3190\n",
      "Epoch: 040, Train: 0.1429, Val: 0.3160, Test: 0.3190\n",
      "Epoch: 050, Train: 0.1429, Val: 0.3160, Test: 0.3190\n",
      "Epoch: 060, Train: 0.1429, Val: 0.3160, Test: 0.3190\n",
      "Epoch: 070, Train: 0.1429, Val: 0.3160, Test: 0.3190\n",
      "Epoch: 080, Train: 0.1429, Val: 0.3160, Test: 0.3190\n",
      "Epoch: 090, Train: 0.1429, Val: 0.3160, Test: 0.3190\n",
      "Epoch: 100, Train: 0.1429, Val: 0.3160, Test: 0.3190\n",
      "Epoch: 110, Train: 0.1429, Val: 0.1620, Test: 0.1490\n",
      "Epoch: 120, Train: 0.1429, Val: 0.1620, Test: 0.1490\n",
      "Epoch: 130, Train: 0.1429, Val: 0.3160, Test: 0.3190\n",
      "Epoch: 140, Train: 0.1429, Val: 0.1620, Test: 0.1490\n",
      "Epoch: 150, Train: 0.1429, Val: 0.1620, Test: 0.1490\n",
      "Epoch: 160, Train: 0.1429, Val: 0.1620, Test: 0.1490\n",
      "Epoch: 170, Train: 0.1429, Val: 0.1620, Test: 0.1490\n",
      "Epoch: 180, Train: 0.1429, Val: 0.1620, Test: 0.1490\n",
      "Epoch: 190, Train: 0.1429, Val: 0.3160, Test: 0.3190\n",
      "Epoch: 200, Train: 0.1429, Val: 0.1620, Test: 0.1490\n"
     ]
    }
   ],
   "source": [
    "for epoch in range(1, 201):\n",
    "    out = train(data)\n",
    "    train_acc, val_acc, test_acc = test(data)\n",
    "    if epoch % 10 == 0:\n",
    "        #visualize(out, color=labels)\n",
    "        print(f'Epoch: {epoch:03d}, Train: {train_acc:.4f}, Val: {val_acc:.4f}, '\n",
    "          f'Test: {test_acc:.4f}')"
   ]
  },
  {
   "cell_type": "code",
   "execution_count": 65,
   "id": "07c8d312",
   "metadata": {},
   "outputs": [
    {
     "data": {
      "image/png": "[encoded data removed]",
      "text/plain": [
       "<Figure size 720x720 with 1 Axes>"
      ]
     },
     "metadata": {},
     "output_type": "display_data"
    }
   ],
   "source": [
    "out = model(data.x, data.edge_index)\n",
    "labels = data.y.clone().detach().cpu()\n",
    "visualize(out, color=labels)"
   ]
  },
  {
   "cell_type": "code",
   "execution_count": null,
   "id": "3a5c6b99",
   "metadata": {},
   "outputs": [],
   "source": []
  }
 ],
 "metadata": {
  "kernelspec": {
   "display_name": "Python 3",
   "language": "python",
   "name": "python3"
  },
  "language_info": {
   "codemirror_mode": {
    "name": "ipython",
    "version": 3
   },
   "file_extension": ".py",
   "mimetype": "text/x-python",
   "name": "python",
   "nbconvert_exporter": "python",
   "pygments_lexer": "ipython3",
   "version": "3.8.10"
  }
 },
 "nbformat": 4,
 "nbformat_minor": 5
}
