{
 "cells": [
  {
   "cell_type": "markdown",
   "source": [
    "Source code from:\n",
    "https://github.com/rusty1s/pytorch_geometric/blob/master/examples/gat.py"
   ],
   "metadata": {}
  },
  {
   "cell_type": "code",
   "execution_count": null,
   "source": [
    "import os.path as osp\r\n",
    "\r\n",
    "import torch\r\n",
    "import torch.nn.functional as F\r\n",
    "from torch_geometric.datasets import Planetoid\r\n",
    "import torch_geometric.transforms as T\r\n",
    "from torch_geometric.nn import GATConv\r\n",
    "\r\n",
    "import networkx as nx\r\n",
    "import matplotlib.pyplot as plt\r\n",
    "from sklearn.manifold import TSNE\r\n",
    "    \r\n",
    "def visualize(h, color):\r\n",
    "    z = TSNE(n_components=2).fit_transform(h.detach().cpu().numpy())\r\n",
    "\r\n",
    "    plt.figure(figsize=(10,10))\r\n",
    "    plt.xticks([])\r\n",
    "    plt.yticks([])\r\n",
    "\r\n",
    "    plt.scatter(z[:, 0], z[:, 1], s=70, c=color, cmap=\"Set2\")\r\n",
    "    plt.show()"
   ],
   "outputs": [],
   "metadata": {}
  },
  {
   "cell_type": "code",
   "execution_count": null,
   "source": [
    "dataset = 'Cora'\r\n",
    "path = osp.join(osp.dirname(osp.realpath('__file__')), 'data', dataset)\r\n",
    "dataset = Planetoid(path, dataset, transform=T.NormalizeFeatures())\r\n",
    "data = dataset[0]"
   ],
   "outputs": [],
   "metadata": {}
  },
  {
   "cell_type": "code",
   "execution_count": null,
   "source": [
    "print(f'Dataset: {dataset}:')\r\n",
    "print('======================')\r\n",
    "print(f'Number of graphs: {len(dataset)}')\r\n",
    "print(f'Number of features: {dataset.num_features}')\r\n",
    "print(f'Number of classes: {dataset.num_classes}')"
   ],
   "outputs": [],
   "metadata": {}
  },
  {
   "cell_type": "code",
   "execution_count": null,
   "source": [
    "data = dataset[0]  # Get the first graph object.\r\n",
    "\r\n",
    "print(data)\r\n",
    "print('==============================================================')\r\n",
    "\r\n",
    "# Gather some statistics about the graph.\r\n",
    "print(f'Number of nodes: {data.num_nodes}')\r\n",
    "print(f'Number of edges: {data.num_edges}')\r\n",
    "print(f'Average node degree: {data.num_edges / data.num_nodes:.2f}')\r\n",
    "print(f'Number of training nodes: {data.train_mask.sum()}')\r\n",
    "print(f'Number of validation nodes: {data.test_mask.sum()}')\r\n",
    "print(f'Number of test nodes: {data.val_mask.sum()}')\r\n",
    "print(f'Training node label rate: {int(data.train_mask.sum()) / data.num_nodes:.2f}')\r\n",
    "print(f'Contains isolated nodes: {data.contains_isolated_nodes()}')\r\n",
    "print(f'Contains self-loops: {data.contains_self_loops()}')\r\n",
    "print(f'Is undirected: {data.is_undirected()}')"
   ],
   "outputs": [],
   "metadata": {}
  },
  {
   "cell_type": "code",
   "execution_count": null,
   "source": [
    "# removing edges\r\n",
    "data.edge_index = torch.empty((2,0), dtype=torch.long, device = 'cuda')\r\n",
    "print(f'Number of edges: {data.num_edges}')"
   ],
   "outputs": [],
   "metadata": {}
  },
  {
   "cell_type": "code",
   "execution_count": null,
   "source": [
    "output = torch.bitwise_or(data.test_mask, data.train_mask)\r\n",
    "out = torch.bitwise_or(output, data.val_mask)\r\n",
    "print(out.sum())"
   ],
   "outputs": [],
   "metadata": {}
  },
  {
   "cell_type": "code",
   "execution_count": null,
   "source": [
    "edge_index = data.edge_index\r\n",
    "print(edge_index.t())"
   ],
   "outputs": [],
   "metadata": {}
  },
  {
   "cell_type": "code",
   "execution_count": null,
   "source": [
    "visualize(data.x, color=data.y)"
   ],
   "outputs": [],
   "metadata": {}
  },
  {
   "cell_type": "code",
   "execution_count": null,
   "source": [
    "class Net(torch.nn.Module):\r\n",
    "    def __init__(self, in_channels, out_channels):\r\n",
    "        super(Net, self).__init__()\r\n",
    "\r\n",
    "        self.conv1 = GATConv(in_channels, 8, heads=8, dropout=0.6)\r\n",
    "        # On the Pubmed dataset, use heads=8 in conv2.\r\n",
    "        self.conv2 = GATConv(8 * 8, out_channels, heads=1, concat=False,\r\n",
    "                             dropout=0.6)\r\n",
    "\r\n",
    "    def forward(self, x, edge_index):\r\n",
    "        x = F.dropout(x, p=0.6, training=self.training)\r\n",
    "        x = F.elu(self.conv1(x, edge_index))\r\n",
    "        x = F.dropout(x, p=0.6, training=self.training)\r\n",
    "        x = self.conv2(x, edge_index)\r\n",
    "        return F.log_softmax(x, dim=-1)"
   ],
   "outputs": [],
   "metadata": {}
  },
  {
   "cell_type": "code",
   "execution_count": null,
   "source": [
    "device = torch.device('cuda' if torch.cuda.is_available() else 'cpu')\r\n",
    "model = Net(dataset.num_features, dataset.num_classes).to(device)\r\n",
    "data = data.to(device)\r\n",
    "labels = data.y.clone().detach().cpu()\r\n",
    "optimizer = torch.optim.Adam(model.parameters(), lr=0.005, weight_decay=5e-4)"
   ],
   "outputs": [],
   "metadata": {}
  },
  {
   "cell_type": "code",
   "execution_count": null,
   "source": [
    "def train(data):\r\n",
    "    model.train()\r\n",
    "    optimizer.zero_grad()\r\n",
    "    out = model(data.x, data.edge_index)\r\n",
    "    loss = F.nll_loss(out[data.train_mask], data.y[data.train_mask])\r\n",
    "    loss.backward()\r\n",
    "    optimizer.step()\r\n",
    "    return out"
   ],
   "outputs": [],
   "metadata": {}
  },
  {
   "cell_type": "code",
   "execution_count": null,
   "source": [
    "@torch.no_grad()\r\n",
    "def test(data):\r\n",
    "    model.eval()\r\n",
    "    out, accs = model(data.x, data.edge_index), []\r\n",
    "    for _, mask in data('train_mask', 'val_mask', 'test_mask'):\r\n",
    "        acc = float((out[mask].argmax(-1) == data.y[mask]).sum() / mask.sum())\r\n",
    "        accs.append(acc)\r\n",
    "    return accs"
   ],
   "outputs": [],
   "metadata": {}
  },
  {
   "cell_type": "code",
   "execution_count": null,
   "source": [
    "for epoch in range(1, 201):\r\n",
    "    out = train(data)\r\n",
    "    train_acc, val_acc, test_acc = test(data)\r\n",
    "    if epoch % 10 == 0:\r\n",
    "        #visualize(out, color=labels)\r\n",
    "        print(f'Epoch: {epoch:03d}, Train: {train_acc:.4f}, Val: {val_acc:.4f}, '\r\n",
    "          f'Test: {test_acc:.4f}')"
   ],
   "outputs": [],
   "metadata": {}
  },
  {
   "cell_type": "code",
   "execution_count": null,
   "source": [
    "out = model(data.x, data.edge_index)\r\n",
    "labels = data.y.clone().detach().cpu()\r\n",
    "visualize(out, color=labels)"
   ],
   "outputs": [],
   "metadata": {}
  },
  {
   "cell_type": "code",
   "execution_count": null,
   "source": [],
   "outputs": [],
   "metadata": {}
  }
 ],
 "metadata": {
  "kernelspec": {
   "display_name": "Python 3",
   "language": "python",
   "name": "python3"
  },
  "language_info": {
   "name": "python",
   "version": "3.8.10",
   "mimetype": "text/x-python",
   "codemirror_mode": {
    "name": "ipython",
    "version": 3
   },
   "pygments_lexer": "ipython3",
   "nbconvert_exporter": "python",
   "file_extension": ".py"
  }
 },
 "nbformat": 4,
 "nbformat_minor": 5
}